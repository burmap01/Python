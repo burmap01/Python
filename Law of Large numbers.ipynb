{
 "cells": [
  {
   "cell_type": "code",
   "execution_count": null,
   "metadata": {},
   "outputs": [],
   "source": [
    "#### This Python 3 markdown file tries to find random numbers, which lie between 1 and -1, and whose mean is close to 68\n",
    "\n",
    "#### import numpy library    \n",
    "import numpy as np\n",
    "from numpy.random import randn\n",
    "\n",
    "#### generate 10000 random numbers     \n",
    "randn(10000)\n",
    "\n",
    "#### iterate over the 100 random numbers to see if it lies between 1 and -1     \n",
    "N = 10000\n",
    "counter = 0\n",
    "for i in randn(N):\n",
    "    if i > -1 and i < 1:\n",
    "        counter = counter + 1\n",
    "\n",
    "#### percentage      \n",
    "counter/N"
   ]
  }
 ],
 "metadata": {
  "kernelspec": {
   "display_name": "Python 3",
   "language": "python",
   "name": "python3"
  },
  "language_info": {
   "codemirror_mode": {
    "name": "ipython",
    "version": 3
   },
   "file_extension": ".py",
   "mimetype": "text/x-python",
   "name": "python",
   "nbconvert_exporter": "python",
   "pygments_lexer": "ipython3",
   "version": "3.7.6"
  }
 },
 "nbformat": 4,
 "nbformat_minor": 4
}
